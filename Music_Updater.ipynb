{
  "nbformat": 4,
  "nbformat_minor": 0,
  "metadata": {
    "colab": {
      "provenance": [],
      "authorship_tag": "ABX9TyMNl69OqNwKk2PWGYioVXk6",
      "include_colab_link": true
    },
    "kernelspec": {
      "name": "python3",
      "display_name": "Python 3"
    },
    "language_info": {
      "name": "python"
    }
  },
  "cells": [
    {
      "cell_type": "markdown",
      "metadata": {
        "id": "view-in-github",
        "colab_type": "text"
      },
      "source": [
        "<a href=\"https://colab.research.google.com/github/ZeddBR/projeto-aula/blob/main/Music_Updater.ipynb\" target=\"_parent\"><img src=\"https://colab.research.google.com/assets/colab-badge.svg\" alt=\"Open In Colab\"/></a>"
      ]
    },
    {
      "cell_type": "code",
      "execution_count": 1,
      "metadata": {
        "id": "5Yam_YaqV2i4"
      },
      "outputs": [],
      "source": [
        "%pip -q install google-genai"
      ]
    },
    {
      "cell_type": "code",
      "source": [
        "import os\n",
        "from google.colab import userdata\n",
        "\n",
        "os.environ[\"GOOGLE_API_KEY\"] = userdata.get('GOOGLE_API_KEY')"
      ],
      "metadata": {
        "id": "6H34QzueWfoi"
      },
      "execution_count": 2,
      "outputs": []
    },
    {
      "cell_type": "code",
      "source": [
        "from google import genai\n",
        "\n",
        "client = genai.Client()\n",
        "\n",
        "MODEL_ID = \"gemini-2.0-flash\""
      ],
      "metadata": {
        "id": "eJ7svSrVWgHl"
      },
      "execution_count": 3,
      "outputs": []
    },
    {
      "cell_type": "code",
      "source": [
        "%pip install -q google-adk"
      ],
      "metadata": {
        "colab": {
          "base_uri": "https://localhost:8080/"
        },
        "id": "xfXSim7-Wh3K",
        "outputId": "c9654ea4-c4aa-4e42-b9ac-c944e6084ef4"
      },
      "execution_count": 4,
      "outputs": [
        {
          "output_type": "stream",
          "name": "stdout",
          "text": [
            "\u001b[2K   \u001b[90m━━━━━━━━━━━━━━━━━━━━━━━━━━━━━━━━━━━━━━━━\u001b[0m \u001b[32m1.2/1.2 MB\u001b[0m \u001b[31m50.1 MB/s\u001b[0m eta \u001b[36m0:00:00\u001b[0m\n",
            "\u001b[2K   \u001b[90m━━━━━━━━━━━━━━━━━━━━━━━━━━━━━━━━━━━━━━━━\u001b[0m \u001b[32m232.1/232.1 kB\u001b[0m \u001b[31m16.9 MB/s\u001b[0m eta \u001b[36m0:00:00\u001b[0m\n",
            "\u001b[2K   \u001b[90m━━━━━━━━━━━━━━━━━━━━━━━━━━━━━━━━━━━━━━━━\u001b[0m \u001b[32m95.2/95.2 kB\u001b[0m \u001b[31m4.6 MB/s\u001b[0m eta \u001b[36m0:00:00\u001b[0m\n",
            "\u001b[2K   \u001b[90m━━━━━━━━━━━━━━━━━━━━━━━━━━━━━━━━━━━━━━━━\u001b[0m \u001b[32m217.1/217.1 kB\u001b[0m \u001b[31m12.9 MB/s\u001b[0m eta \u001b[36m0:00:00\u001b[0m\n",
            "\u001b[2K   \u001b[90m━━━━━━━━━━━━━━━━━━━━━━━━━━━━━━━━━━━━━━━━\u001b[0m \u001b[32m334.1/334.1 kB\u001b[0m \u001b[31m19.0 MB/s\u001b[0m eta \u001b[36m0:00:00\u001b[0m\n",
            "\u001b[2K   \u001b[90m━━━━━━━━━━━━━━━━━━━━━━━━━━━━━━━━━━━━━━━━\u001b[0m \u001b[32m125.1/125.1 kB\u001b[0m \u001b[31m9.0 MB/s\u001b[0m eta \u001b[36m0:00:00\u001b[0m\n",
            "\u001b[2K   \u001b[90m━━━━━━━━━━━━━━━━━━━━━━━━━━━━━━━━━━━━━━━━\u001b[0m \u001b[32m65.8/65.8 kB\u001b[0m \u001b[31m4.6 MB/s\u001b[0m eta \u001b[36m0:00:00\u001b[0m\n",
            "\u001b[2K   \u001b[90m━━━━━━━━━━━━━━━━━━━━━━━━━━━━━━━━━━━━━━━━\u001b[0m \u001b[32m119.0/119.0 kB\u001b[0m \u001b[31m8.7 MB/s\u001b[0m eta \u001b[36m0:00:00\u001b[0m\n",
            "\u001b[2K   \u001b[90m━━━━━━━━━━━━━━━━━━━━━━━━━━━━━━━━━━━━━━━━\u001b[0m \u001b[32m194.9/194.9 kB\u001b[0m \u001b[31m13.6 MB/s\u001b[0m eta \u001b[36m0:00:00\u001b[0m\n",
            "\u001b[2K   \u001b[90m━━━━━━━━━━━━━━━━━━━━━━━━━━━━━━━━━━━━━━━━\u001b[0m \u001b[32m62.5/62.5 kB\u001b[0m \u001b[31m4.4 MB/s\u001b[0m eta \u001b[36m0:00:00\u001b[0m\n",
            "\u001b[2K   \u001b[90m━━━━━━━━━━━━━━━━━━━━━━━━━━━━━━━━━━━━━━━━\u001b[0m \u001b[32m103.3/103.3 kB\u001b[0m \u001b[31m8.3 MB/s\u001b[0m eta \u001b[36m0:00:00\u001b[0m\n",
            "\u001b[2K   \u001b[90m━━━━━━━━━━━━━━━━━━━━━━━━━━━━━━━━━━━━━━━━\u001b[0m \u001b[32m44.4/44.4 kB\u001b[0m \u001b[31m3.0 MB/s\u001b[0m eta \u001b[36m0:00:00\u001b[0m\n",
            "\u001b[2K   \u001b[90m━━━━━━━━━━━━━━━━━━━━━━━━━━━━━━━━━━━━━━━━\u001b[0m \u001b[32m72.0/72.0 kB\u001b[0m \u001b[31m5.8 MB/s\u001b[0m eta \u001b[36m0:00:00\u001b[0m\n",
            "\u001b[?25h"
          ]
        }
      ]
    },
    {
      "cell_type": "code",
      "source": [
        "from google.adk.agents import Agent\n",
        "from google.adk.runners import Runner\n",
        "from google.adk.sessions import InMemorySessionService\n",
        "from google.adk.tools import google_search\n",
        "from google.genai import types\n",
        "from datetime import date\n",
        "import textwrap\n",
        "from IPython.display import display, Markdown\n",
        "import requests\n",
        "import warnings\n",
        "\n",
        "warnings.filterwarnings(\"ignore\")"
      ],
      "metadata": {
        "id": "B6xIA-14Wtgu"
      },
      "execution_count": 7,
      "outputs": []
    },
    {
      "cell_type": "code",
      "source": [
        "def call_agent(agent: Agent, message_text: str) -> str:\n",
        "    session_service = InMemorySessionService()\n",
        "    session = session_service.create_session(app_name=agent.name, user_id=\"user1\", session_id=\"session1\")\n",
        "    runner = Runner(agent=agent, app_name=agent.name, session_service=session_service)\n",
        "    content = types.Content(role=\"user\", parts=[types.Part(text=message_text)])\n",
        "    final_response = \"\"\n",
        "\n",
        "    for event in runner.run(user_id=\"user1\", session_id=\"session1\", new_message=content):\n",
        "        if event.is_final_response():\n",
        "          for part in event.content.parts:\n",
        "            if part.text is not None:\n",
        "              final_response += part.text\n",
        "              final_response += \"\\n\"\n",
        "    return final_response"
      ],
      "metadata": {
        "id": "q7ORinJ3Wu_Z"
      },
      "execution_count": 8,
      "outputs": []
    },
    {
      "cell_type": "code",
      "source": [
        "def to_markdown(text):\n",
        "  text = text.replace('•', '  *')\n",
        "  return Markdown(textwrap.indent(text, '> ', predicate=lambda _: True))"
      ],
      "metadata": {
        "id": "HrN-sKxlXBjm"
      },
      "execution_count": 9,
      "outputs": []
    },
    {
      "cell_type": "code",
      "source": [
        "def agente_buscador(topico, data_de_hoje):\n",
        "    buscador = Agent(\n",
        "        name=\"agente_buscador\",\n",
        "        model=\"gemini-2.0-flash\",\n",
        "        description=\"agente que busca informacoes no Google\",\n",
        "        tools=[google_search],\n",
        "        instruction=\"\"\"\n",
        "        Voce é um assistente de pesquisa. A sua tarefa é usar a ferramenta de busca do google (google_search)\n",
        "        para realizar uma busca geral da história, novidades e últimos lançamentos musicais de bandas ou artistas da música mundial.\n",
        "        Buscar novidades e noticias sobre as bandas e citar singles ou clipes lançados na última semana ou de uma banda especificada no topico.\n",
        "        \"\"\"\n",
        "    )\n",
        "\n",
        "    entrada_do_agente_buscador = f\"Tópico: {topico}\\nData de hoje: {data_de_hoje}\"\n",
        "    lancamentos = call_agent(buscador, entrada_do_agente_buscador)\n",
        "    return lancamentos\n",
        ""
      ],
      "metadata": {
        "id": "pxzM-4hiXE9i"
      },
      "execution_count": 49,
      "outputs": []
    },
    {
      "cell_type": "code",
      "source": [
        "def agente_planejador(topico, lancamentos_buscados):\n",
        "    planejador = Agent(\n",
        "        name=\"agente_planejador\",\n",
        "        model=\"gemini-2.0-flash\",\n",
        "        instruction=\"\"\"\n",
        "        Voce é um redator de conteudo musical, especialista em músicas e bandas de rock do estilo emocore, emo, post-emo, midwest emo.\n",
        "        Com base na lista de lancamentos mais recentes e relevantes buscados, voce deve:\n",
        "        usar a ferramenta de busca do google (google_search) para criar uma lista detalhada, e atual,\n",
        "        listando novidades, nome da faixa, artista, data de lançamento, nome do álbum se houver conforme informacoes recebidas do agente anterior.\n",
        "        Liste também as redes sociais do artista e as plataformas disponíveis para escutar a música ou assistir ao clipe com links de redirecionamento.\n",
        "        Voce tambem pode usar o (google_search) para encontrar informacoes sobre os temas e aprofundar.\n",
        "        \"\"\",\n",
        "        description=\"Agente que gera a lista e conteudos\",\n",
        "        tools=[google_search]\n",
        "    )\n",
        "\n",
        "    entrada_do_agente_planejador = f\"Tópico:{topico}\\nLançamentos buscados: {lancamentos_buscados}\"\n",
        "    lista_top_10 = call_agent(planejador, entrada_do_agente_planejador)\n",
        "    return lista_top_10"
      ],
      "metadata": {
        "id": "L3RpgxTPYBig"
      },
      "execution_count": 50,
      "outputs": []
    },
    {
      "cell_type": "code",
      "source": [
        "def agente_redator(topico, lista_top_10):\n",
        "    redator = Agent(\n",
        "        name=\"agente_redator\",\n",
        "        model=\"gemini-2.0-flash\",\n",
        "        instruction=\"\"\"\n",
        "            Você é um Editor e Revisor de Conteúdo meticuloso, especializado listar de forma organizada o conteudo gerado pelo agente planejador, sem repetir informações.\n",
        "            Por ter um público jovem, entre 18 e 30 anos, use um tom de escrita adequado. Verifique se os links estão funcionais antes de envia-los.\n",
        "            Gere a lista sobre o tópico indicado, liste organizando de forma clara nome do artista do topico, da música ou faixa, album, ano de lançamento e links\n",
        "            das redes sociais e das plataformas de streaming disponíveis.\n",
        "            Utilize fonte em negrito para títulos. Se possível, inclua uma foto da capa do album ou do artista/banda.\n",
        "            Apenas liste, sem comentários adicionais, de forma bem organizada e resumida com os links, agenda de shows a partir de hoje e uma lista de até 10 músicas mais escutadas do artista do topico.\n",
        "            \"\"\",\n",
        "        description=\"Agente redator e do post final.\"\n",
        "\n",
        "    )\n",
        "\n",
        "    entrada_do_agente_redator = f\"Tópico: {topico}\\nRascunho: {lista_top_10}\"\n",
        "    lista_final = call_agent(redator, entrada_do_agente_redator)\n",
        "    return lista_final"
      ],
      "metadata": {
        "id": "jcFzNPFmdMOj"
      },
      "execution_count": 55,
      "outputs": []
    },
    {
      "cell_type": "code",
      "source": [
        "data_de_hoje = date.today().strftime(\"%d/%m/%Y\")\n",
        "\n",
        "print(\"🎧 Buscando novidades do seu artista favorito para você! 🎧\")\n",
        "\n",
        "topico = input(\"❓ Por favor, digite o nome do artista ou banda que deseja receber as últimas atualizações: \")\n",
        "\n",
        "if not topico:\n",
        "  print(\"Voce esqueceu de digitar o nome do artista/banda\")\n",
        "else:\n",
        "    print(f\"Pronto! Agora se liga nas novidades de {topico}\")\n",
        "\n",
        "    lancamentos_buscados = agente_buscador(topico, data_de_hoje)\n",
        "    print(\"\\n--- Busca Principal ---\\n\")\n",
        "    display(to_markdown(lancamentos_buscados))\n",
        "    print(\"-------------------------------------------------------\")\n",
        "\n",
        "    lista_top_10 = agente_planejador(topico, lancamentos_buscados)\n",
        "    print(\"\\n--- Novidades! ---\\n\")\n",
        "    display(to_markdown(lista_top_10))\n",
        "    print(\"-------------------------------------------------------\")\n",
        "\n",
        "    lista_final = agente_redator(topico, lista_top_10)\n",
        "    print(\"\\n--- Links e atualizações ---\\n\")\n",
        "    display(to_markdown(lista_final))\n",
        "    print(\"-------------------------------------------------------\")"
      ],
      "metadata": {
        "colab": {
          "base_uri": "https://localhost:8080/",
          "height": 1000
        },
        "id": "e8ym_9k2dMiz",
        "outputId": "25bceb57-5d19-4182-b291-c8a731437578"
      },
      "execution_count": 57,
      "outputs": [
        {
          "output_type": "stream",
          "name": "stdout",
          "text": [
            "🎧 Buscando novidades do seu artista favorito para você! 🎧\n",
            "❓ Por favor, digite o nome do artista ou banda que deseja receber as últimas atualizações: Bullet for my valentine\n",
            "Pronto! Agora se liga nas novidades de Bullet for my valentine\n",
            "\n",
            "--- Busca Principal ---\n",
            "\n"
          ]
        },
        {
          "output_type": "display_data",
          "data": {
            "text/plain": [
              "<IPython.core.display.Markdown object>"
            ],
            "text/markdown": "> Olá! Para fornecer as últimas informações sobre o Bullet For My Valentine, incluindo novidades, lançamentos recentes e outras notícias relevantes, vou realizar algumas pesquisas no Google.\n> \n> \n> Aqui estão as últimas notícias sobre o Bullet For My Valentine:\n> \n> *   **Fim da turnê com o Trivium:** O Bullet For My Valentine confirmou o fim da turnê \"Poisoned Ascendancy\" com o Trivium. A turnê celebrava os 20 anos dos álbuns \"The Poison\" do Bullet For My Valentine e \"Ascendancy\" do Trivium. A etapa norte-americana da turnê foi encerrada em 18 de maio de 2025. Havia planos de continuar a turnê pela América do Sul e Austrália, mas esses planos foram cancelados.\n> *   **Declarações sobre o fim da turnê:** O cancelamento das datas da turnê gerou controvérsia, com o baixista do Trivium, Paolo Gregoletto, culpando o vocalista do Bullet For My Valentine, Matt Tuck, pela decisão. O Bullet For My Valentine lançou uma declaração agradecendo aos fãs e afirmando que a banda está focando no \"próximo capítulo\". Matt Heafy, vocalista do Trivium, pediu paz após a polêmica.\n> *   **Novo álbum:** O Bullet For My Valentine planeja entrar em estúdio no verão de 2025 para trabalhar em um novo álbum, que eles prometem ser o melhor até agora. Matt Tuck mencionou que a banda está trabalhando em 13 faixas para o oitavo álbum de estúdio. Eles também estão planejando turnês para 2026 e 2027.\n> \n> Lançamentos musicais recentes e singles:\n> \n> *   O álbum mais recente do Bullet For My Valentine é o álbum auto-intitulado \"Bullet For My Valentine\", lançado em 5 de novembro de 2021. Uma edição deluxe do álbum foi lançada em agosto de 2022.\n> *   **Singles recentes:**\n>     *   \"Halo (Urbandawn Remix)\" (2023)\n>     *   \"Halo (Matt Tuck Rework)\" (2023)\n>     *    \"Omen\" (2022)\n>     *   \"No More Tears To Cry\" (2022)\n>     *   \"Stitches\" (2022)\n> *   A banda lançou uma edição de 20º aniversário do álbum \"The Poison\" em 29 de novembro de 2024, incluindo faixas ao vivo gravadas em Brixton.\n> \n> Espero que esta informação seja útil!\n> \n"
          },
          "metadata": {}
        },
        {
          "output_type": "stream",
          "name": "stdout",
          "text": [
            "-------------------------------------------------------\n",
            "\n",
            "--- Novidades! ---\n",
            "\n"
          ]
        },
        {
          "output_type": "display_data",
          "data": {
            "text/plain": [
              "<IPython.core.display.Markdown object>"
            ],
            "text/markdown": "> Com prazer! Aqui está uma lista detalhada e atualizada sobre o Bullet For My Valentine, com base nas informações fornecidas e em pesquisas adicionais:\n> \n> **Bullet For My Valentine: Novidades e Lançamentos Recentes**\n> \n> **Notícias:**\n> \n> *   **Fim da Turnê \"Poisoned Ascendancy\" com Trivium:** A turnê que celebrava os 20 anos dos álbuns \"The Poison\" (BFMV) e \"Ascendancy\" (Trivium) foi finalizada. A etapa norte-americana encerrou-se em 18 de maio de 2025. As datas planejadas para a América do Sul e Austrália foram canceladas.\n> *   **Controvérsia e Declarações:** O cancelamento gerou discussões, com Paolo Gregoletto (Trivium) mencionando Matt Tuck (BFMV) como responsável. O Bullet For My Valentine agradeceu aos fãs e anunciou foco no \"próximo capítulo\". Matt Heafy (Trivium) buscou apaziguar a situação.\n> *   **Novo Álbum:** A banda planeja entrar em estúdio no verão de 2025 para trabalhar em um novo álbum, com previsão de ser o melhor trabalho deles. Matt Tuck informou que estão trabalhando em 13 faixas para o oitavo álbum de estúdio. Turnês estão sendo planejadas para 2026 e 2027.\n> \n> **Lançamentos Musicais Recentes e Singles:**\n> \n> *   **Álbum Mais Recente:** \"Bullet For My Valentine\" (auto-intitulado), lançado em 5 de novembro de 2021. A edição deluxe saiu em agosto de 2022.\n> *   **Singles Recentes:**\n>     *   \"Halo (Urbandawn Remix)\" (2023)\n>     *   \"Halo (Matt Tuck Rework)\" (2023)\n>     *   \"Omen\" (2022)\n>     *   \"No More Tears To Cry\" (2022)\n>     *   \"Stitches\" (2022)\n> *   **The Poison - 20th Anniversary Edition:** Lançada em 29 de novembro de 2024, com gravações ao vivo de Brixton.\n> \n> Para ficar por dentro de todas as novidades, você pode seguir o Bullet For My Valentine nas redes sociais:\n> \n> *   **Website:** [https://www.bulletformyvalentine.com/](https://www.bulletformyvalentine.com/)\n> *   **Facebook:** [https://www.facebook.com/BulletForMyValentine](https://www.facebook.com/BulletForMyValentine)\n> *   **X:** [https://twitter.com/bfmvofficial](https://twitter.com/bfmvofficial)\n> *   **Instagram:** [https://www.instagram.com/bfmvofficial/](https://www.instagram.com/bfmvofficial/)\n> \n> Você pode ouvir os singles e álbuns recentes do Bullet For My Valentine nas seguintes plataformas:\n> \n> *   **Spotify:** [https://open.spotify.com/artist/7iWiAD5LLKyiox2MGpjdwQ](https://open.spotify.com/artist/7iWiAD5LLKyiox2MGpjdwQ)\n> *   **YouTube:** [https://www.youtube.com/user/BFMVofficial](https://www.youtube.com/user/BFMVofficial)\n> *   **Apple Music:** procure por Bullet For My Valentine na Apple Music\n> *   **Amazon Music:** procure por Bullet For My Valentine na Amazon Music\n> \n"
          },
          "metadata": {}
        },
        {
          "output_type": "stream",
          "name": "stdout",
          "text": [
            "-------------------------------------------------------\n",
            "\n",
            "--- Links e atualizações ---\n",
            "\n"
          ]
        },
        {
          "output_type": "display_data",
          "data": {
            "text/plain": [
              "<IPython.core.display.Markdown object>"
            ],
            "text/markdown": "> Com certeza! Preparei um resumo organizado sobre o Bullet For My Valentine, perfeito para você ficar por dentro de tudo!\n> \n> ### **Bullet For My Valentine: Tudo Que Você Precisa Saber**\n> \n> #### **Notícias:**\n> \n> *   **Novo Álbum:** A banda planeja entrar em estúdio no verão de 2025 para trabalhar em um novo álbum, com previsão de lançamento em 2026 ou 2027.\n> *   **Turnê:** As datas planejadas para a América do Sul e Austrália foram canceladas, mas turnês estão sendo planejadas para 2026 e 2027 para promover o novo álbum.\n> \n> #### **Lançamentos Musicais Recentes e Álbuns:**\n> \n> *   **Bullet For My Valentine (álbum)**\n> \n>     *   **Lançamento:** 5 de novembro de 2021 (edição deluxe em agosto de 2022)\n> \n> *   **The Poison - 20th Anniversary Edition**\n> \n>     *   **Lançamento:** 29 de novembro de 2024 (gravações ao vivo de Brixton)\n> \n> #### **Singles Recentes:**\n> \n> *   Halo (Urbandawn Remix) - (2023)\n> *   Halo (Matt Tuck Rework) - (2023)\n> *   Omen - (2022)\n> *   No More Tears To Cry - (2022)\n> *   Stitches - (2022)\n> \n> #### **Redes Sociais e Plataformas de Streaming:**\n> \n> *   **Website:** [https://www.bulletformyvalentine.com/](https://www.bulletformyvalentine.com/)\n> *   **Facebook:** [https://www.facebook.com/BulletForMyValentine](https://www.facebook.com/BulletForMyValentine)\n> *   **X:** [https://twitter.com/bfmvofficial](https://twitter.com/bfmvofficial)\n> *   **Instagram:** [https://www.instagram.com/bfmvofficial/](https://www.instagram.com/bfmvofficial/)\n> *   **Spotify:** [https://open.spotify.com/artist/7iWiAD5LLKyiox2MGpjdwQ](https://open.spotify.com/artist/7iWiAD5LLKyiox2MGpjdwQ)\n> *   **YouTube:** [https://www.youtube.com/user/BFMVofficial](https://www.youtube.com/user/BFMVofficial)\n> *   **Apple Music:** procure por Bullet For My Valentine na Apple Music\n> *   **Amazon Music:** procure por Bullet For My Valentine na Amazon Music\n> \n> #### **Shows:**\n> \n> *   Não há shows agendados no momento.\n> \n> #### **Top 10 Músicas Mais Escutadas:**\n> \n> 1.  Tears Don't Fall\n> 2.  Waking The Demon\n> 3.  Scream Aim Fire\n> 4.  Your Betrayal\n> 5.  All These Things I Hate (Revolve Around Me)\n> 6.  Hearts Burst Into Fire\n> 7.  The Last Fight\n> 8.  Hand Of Blood\n> 9.  Knives\n> 10. Rainbow Veins\n> \n"
          },
          "metadata": {}
        },
        {
          "output_type": "stream",
          "name": "stdout",
          "text": [
            "-------------------------------------------------------\n"
          ]
        }
      ]
    }
  ]
}